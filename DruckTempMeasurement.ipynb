{
 "cells": [
  {
   "cell_type": "code",
   "execution_count": null,
   "metadata": {},
   "outputs": [],
   "source": [
    "import numpy as np\n",
    "import psycopg2\n",
    "import psycopg2.extras\n",
    "from psycopg2 import connect\n",
    "from datetime import datetime, timedelta\n",
    "\n",
    "temp_array=[] # Auswahl der Grenzbereiche der Druck Temperatur abfrage\n",
    "def Druck_Temperaturen(temp_array):\n",
    "\n",
    "    db_con = connect(database='laborlogger', host='131.220.219.86', user='gem', password='DB4all')\n",
    "    db_cursor = db_con.cursor(cursor_factory=psycopg2.extras.DictCursor)\n",
    "    db_cursor.execute(\"SELECT * FROM chargeupdettp WHERE timestamp > '{:%Y-%m-%d %H:%M}' AND timestamp < '{:%Y-%m-%d %H:%M}'\".format(temp_array[0], temp_array[-1]))\n",
    "\n",
    "    data = db_cursor.fetchall()\n",
    "    timestamp, pressure, temperature = zip(*data)\n",
    "\n",
    "    t_over_p = np.asarray([(t*0.01+273.15)/(p*0.01) for t,p in zip(temperature, pressure)])\n",
    "    return t_over_p,timestamp\n",
    "\n",
    "\n",
    "# Idee: WIr lesen die Dateinamen der files aus und wandeln sie in Timestamps um. Diese werden dann zeitlich geordnet und in Dateinamen zurückumgewandelt\n",
    "# Datenformat: yyyymmdd_hhmmss (2018-01-01 12:00:00 <-> 20180101_120000)\n",
    "\n",
    "\n"
   ]
  }
 ],
 "metadata": {
  "language_info": {
   "name": "python"
  }
 },
 "nbformat": 4,
 "nbformat_minor": 2
}
