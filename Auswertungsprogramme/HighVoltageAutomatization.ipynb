{
 "cells": [
  {
   "cell_type": "code",
   "execution_count": 5,
   "metadata": {},
   "outputs": [
    {
     "name": "stdout",
     "output_type": "stream",
     "text": [
      "        Command         Spannung Speed Channel\n",
      "0         RampV              0.0     5     308\n",
      "1         RampV            328.0     5     307\n",
      "2         RampV           1074.0     5     306\n",
      "3         RampV           1448.0     5     305\n",
      "4         RampV           2194.0     5     304\n",
      "..          ...              ...   ...     ...\n",
      "640        Idle               90              \n",
      "641     MCAStop                               \n",
      "642  MCAGetData                               \n",
      "643     MCASave  Ind_4200Vcm.txt              \n",
      "644    MCAReset                               \n",
      "\n",
      "[645 rows x 4 columns]\n"
     ]
    }
   ],
   "source": [
    "import numpy as np\n",
    "import pandas as pd\n",
    "\n",
    "def Konfigurationsrechner(Induktionsfeld, GEM3_Voltage, TF2, GEM2_Voltage, TF1, GEM1_Voltage, Driftfield,Feldname,Feldindex):\n",
    "    Channel = [308, 307, 306, 305, 304, 303, 302, 301]\n",
    "    Speed = [5, 5, 5, 5, 5, 5, 5, 5]\n",
    "    GEM3_Bottom = Induktionsfeld * 0.2\n",
    "    GEM3_Top = GEM3_Voltage + GEM3_Bottom\n",
    "    GEM2_Bottom = GEM3_Top + TF2 * 0.2\n",
    "    GEM2_Top = GEM2_Bottom + GEM2_Voltage\n",
    "    GEM1_Bottom = GEM2_Top + TF1 * 0.2\n",
    "    GEM1_Top = GEM1_Bottom + GEM1_Voltage\n",
    "    Driftfield_Bottom = GEM1_Top + 0.3 * Driftfield\n",
    "    Driftfield_Top = Driftfield_Bottom\n",
    "\n",
    "    # Erstelle eine Liste der berechneten Werte\n",
    "    voltages = [GEM3_Bottom, GEM3_Top, GEM2_Bottom, GEM2_Top, GEM1_Bottom, GEM1_Top, Driftfield_Bottom, Driftfield_Top]\n",
    "    data = []\n",
    "\n",
    "    # Füge die berechneten Werte zur Datenliste hinzu\n",
    "    for i in range(len(voltages)):\n",
    "        data.append([voltages[i], Speed[i % len(Speed)], Channel[i % len(Channel)]])\n",
    "\n",
    "    # Erstelle einen DataFrame aus den Daten\n",
    "    df = pd.DataFrame(data, columns=['Spannung', 'Speed', 'Channel'])\n",
    "\n",
    "    # Füge die 'RampV' Spalte hinzu\n",
    "    df.insert(0, 'Command', 'RampV')\n",
    "\n",
    "    # Zusätzliche Zeilen hinzufügen\n",
    "    additional_rows = pd.DataFrame([\n",
    "        {'Command': 'RampDone', 'Spannung': '', 'Speed': '', 'Channel': ''},\n",
    "        {'Command': 'MCAStart', 'Spannung': '', 'Speed': '', 'Channel': ''},\n",
    "        {'Command': 'Idle', 'Spannung': 90, 'Speed': '', 'Channel': ''},\n",
    "        {'Command': 'MCAStop', 'Spannung': '', 'Speed': '', 'Channel': ''},\n",
    "        {'Command': 'MCAGetData', 'Spannung': '', 'Speed': '', 'Channel': ''},\n",
    "        {'Command': 'MCASave', 'Spannung': f'{Feldname}_{Feldindex}Vcm.txt', 'Speed': '', 'Channel': ''},\n",
    "        {'Command': 'MCAReset', 'Spannung': '', 'Speed': '', 'Channel': ''}\n",
    "    ])\n",
    "\n",
    "    df = pd.concat([df, additional_rows], ignore_index=True)\n",
    "\n",
    "    return df\n",
    "\n",
    "# Liste zum Speichern aller Teiltabellen\n",
    "all_tables = []\n",
    "\n",
    "# Iteriere über die Werte und berechne die Spannungen\n",
    "for i in range(0, 4300, 100):\n",
    "    df = Konfigurationsrechner(i, 328, 3730, 374, 3730, 410, 2490, 'Ind',i)\n",
    "    all_tables.append(df)\n",
    "\n",
    "# Führe alle Teiltabellen zu einer einzigen Tabelle zusammen\n",
    "final_df = pd.concat(all_tables, ignore_index=True)\n",
    "\n",
    "# Speichere die finale Tabelle in eine TSV-Datei\n",
    "final_df.to_csv(r'C:\\\\Users\\spors\\\\OneDrive\\Dokumente\\Studium\\Bachelorarbeit\\\\Messungen und Auswertung\\Automatizsationfiles\\\\Ind_Var.hva', sep='\\t', index=False)\n",
    "\n",
    "# Ausgabe der finalen Tabelle\n",
    "print(final_df)"
   ]
  }
 ],
 "metadata": {
  "kernelspec": {
   "display_name": "Python 3",
   "language": "python",
   "name": "python3"
  },
  "language_info": {
   "codemirror_mode": {
    "name": "ipython",
    "version": 3
   },
   "file_extension": ".py",
   "mimetype": "text/x-python",
   "name": "python",
   "nbconvert_exporter": "python",
   "pygments_lexer": "ipython3",
   "version": "3.11.9"
  }
 },
 "nbformat": 4,
 "nbformat_minor": 2
}
